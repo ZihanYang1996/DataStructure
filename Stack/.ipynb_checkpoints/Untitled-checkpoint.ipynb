{
 "cells": [
  {
   "cell_type": "code",
   "execution_count": null,
   "id": "7e165d24",
   "metadata": {},
   "outputs": [],
   "source": [
    "class Stack:\n",
    "    def __init__(self):\n",
    "        self.items = []\n",
    "\n",
    "    def is_empty(self):\n",
    "        \"\"\" Check if the stack is empty \"\"\"\n",
    "        return not self.items\n",
    "\n",
    "    def push(self, item):\n",
    "        \"\"\" Add an item to the top of the stack \"\"\"\n",
    "        self.items.append(item)\n",
    "\n",
    "    def pop(self):\n",
    "        \"\"\" Remove and return the top item from the stack \"\"\"\n",
    "        if self.is_empty():\n",
    "            raise IndexError(\"Pop from an empty stack\")\n",
    "        return self.items.pop()\n",
    "\n",
    "    def peek(self):\n",
    "        \"\"\" Return the top item from the stack without removing it \"\"\"\n",
    "        if self.is_empty():\n",
    "            raise IndexError(\"Peek from an empty stack\")\n",
    "        return self.items[-1]\n",
    "\n",
    "    def size(self):\n",
    "        \"\"\" Return the number of items in the stack \"\"\"\n",
    "        return len(self.items)"
   ]
  }
 ],
 "metadata": {
  "kernelspec": {
   "display_name": "Python 3",
   "language": "python",
   "name": "python3"
  },
  "language_info": {
   "codemirror_mode": {
    "name": "ipython",
    "version": 3
   },
   "file_extension": ".py",
   "mimetype": "text/x-python",
   "name": "python",
   "nbconvert_exporter": "python",
   "pygments_lexer": "ipython3",
   "version": "3.9.4"
  }
 },
 "nbformat": 4,
 "nbformat_minor": 5
}
