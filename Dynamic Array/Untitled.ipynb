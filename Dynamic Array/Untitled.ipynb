{
 "cells": [
  {
   "cell_type": "code",
   "execution_count": 4,
   "id": "ba3d4757",
   "metadata": {},
   "outputs": [],
   "source": [
    "class DynamicArray:\n",
    "    def __init__(self):\n",
    "        self.count = 0\n",
    "        self.capacity = 1\n",
    "        self.array = [None] * self.capacity\n",
    "\n",
    "    def __len__(self):\n",
    "        return self.count\n",
    "\n",
    "    def __getitem__(self, index):\n",
    "        if not 0 <= index < self.count:\n",
    "            raise IndexError('Index out of range')\n",
    "        return self.array[index]\n",
    "\n",
    "    def _resize(self, new_capacity):\n",
    "        new_array = [None] * new_capacity\n",
    "        for i in range(self.count):\n",
    "            new_array[i] = self.array[i]\n",
    "        self.array = new_array\n",
    "        self.capacity = new_capacity\n",
    "\n",
    "    def append(self, item):\n",
    "        if self.count == self.capacity:\n",
    "            self._resize(2 * self.capacity)\n",
    "        self.array[self.count] = item\n",
    "        self.count += 1\n",
    "\n",
    "    def insert(self, index, item):\n",
    "        if not 0 <= index <= self.count:\n",
    "            raise IndexError('Index out of range')\n",
    "\n",
    "        if self.count == self.capacity:\n",
    "            self._resize(2 * self.capacity)\n",
    "\n",
    "        for i in range(self.count, index, -1):\n",
    "            self.array[i] = self.array[i - 1]\n",
    "\n",
    "        self.array[index] = item\n",
    "        self.count += 1\n",
    "\n",
    "    def remove(self, item):\n",
    "        for i in range(self.count):\n",
    "            if self.array[i] == item:\n",
    "                for j in range(i, self.count - 1):\n",
    "                    self.array[j] = self.array[j + 1]\n",
    "                self.array[self.count - 1] = None\n",
    "                self.count -= 1\n",
    "                return\n",
    "        raise ValueError('Item not found in array')\n",
    "        \n",
    "    def print_array(self):\n",
    "        print(self.array)\n"
   ]
  },
  {
   "cell_type": "code",
   "execution_count": 5,
   "id": "ac9e37d3",
   "metadata": {},
   "outputs": [],
   "source": [
    "D_A = DynamicArray()"
   ]
  },
  {
   "cell_type": "code",
   "execution_count": 7,
   "id": "81c1cd43",
   "metadata": {},
   "outputs": [],
   "source": [
    "D_A.append(100)"
   ]
  },
  {
   "cell_type": "code",
   "execution_count": 8,
   "id": "26395e0c",
   "metadata": {},
   "outputs": [
    {
     "name": "stdout",
     "output_type": "stream",
     "text": [
      "[100]\n"
     ]
    }
   ],
   "source": [
    "D_A.print_array()"
   ]
  },
  {
   "cell_type": "code",
   "execution_count": null,
   "id": "53d05db1",
   "metadata": {},
   "outputs": [],
   "source": []
  }
 ],
 "metadata": {
  "kernelspec": {
   "display_name": "Python 3",
   "language": "python",
   "name": "python3"
  },
  "language_info": {
   "codemirror_mode": {
    "name": "ipython",
    "version": 3
   },
   "file_extension": ".py",
   "mimetype": "text/x-python",
   "name": "python",
   "nbconvert_exporter": "python",
   "pygments_lexer": "ipython3",
   "version": "3.9.4"
  }
 },
 "nbformat": 4,
 "nbformat_minor": 5
}
