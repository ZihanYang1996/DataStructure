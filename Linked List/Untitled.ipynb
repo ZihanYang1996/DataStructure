{
 "cells": [
  {
   "cell_type": "code",
   "execution_count": null,
   "id": "53b19e70",
   "metadata": {},
   "outputs": [],
   "source": [
    "class Node:\n",
    "    def __init__(self, data):\n",
    "        self.data = data\n",
    "        self.next = None\n",
    "        self.prev = None"
   ]
  },
  {
   "cell_type": "code",
   "execution_count": null,
   "id": "d5d638b1",
   "metadata": {},
   "outputs": [],
   "source": [
    "class DoublyLinkedList:\n",
    "    def __init__(self):\n",
    "        self.head = None\n",
    "\n",
    "    def append(self, data):\n",
    "        \"\"\" Appends a node at the end of the list. \"\"\"\n",
    "        new_node = Node(data)\n",
    "        if not self.head:\n",
    "            self.head = new_node\n",
    "            return\n",
    "        last_node = self.head\n",
    "        while last_node.next:\n",
    "            last_node = last_node.next\n",
    "        last_node.next = new_node\n",
    "        new_node.prev = last_node\n",
    "\n",
    "    def prepend(self, data):\n",
    "        \"\"\" Prepends a node at the beginning of the list. \"\"\"\n",
    "        new_node = Node(data)\n",
    "        if not self.head:\n",
    "            self.head = new_node\n",
    "            return\n",
    "        self.head.prev = new_node\n",
    "        new_node.next = self.head\n",
    "        self.head = new_node\n",
    "\n",
    "    def delete(self, key):\n",
    "        \"\"\" Deletes a node by value. \"\"\"\n",
    "        cur = self.head\n",
    "        while cur:\n",
    "            if cur.data == key:\n",
    "                if cur.prev:\n",
    "                    cur.prev.next = cur.next\n",
    "                if cur.next:\n",
    "                    cur.next.prev = cur.prev\n",
    "                if cur == self.head:  # If the node to be deleted is the head\n",
    "                    self.head = cur.next\n",
    "                return\n",
    "            cur = cur.next\n",
    "\n",
    "    def display(self):\n",
    "        \"\"\" Displays the list. \"\"\"\n",
    "        elements = []\n",
    "        cur = self.head\n",
    "        while cur:\n",
    "            elements.append(cur.data)\n",
    "            cur = cur.next\n",
    "        return elements"
   ]
  }
 ],
 "metadata": {
  "kernelspec": {
   "display_name": "Python 3",
   "language": "python",
   "name": "python3"
  },
  "language_info": {
   "codemirror_mode": {
    "name": "ipython",
    "version": 3
   },
   "file_extension": ".py",
   "mimetype": "text/x-python",
   "name": "python",
   "nbconvert_exporter": "python",
   "pygments_lexer": "ipython3",
   "version": "3.9.4"
  }
 },
 "nbformat": 4,
 "nbformat_minor": 5
}
